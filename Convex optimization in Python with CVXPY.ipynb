{
 "cells": [
  {
   "cell_type": "markdown",
   "metadata": {},
   "source": [
    "# Convex Optimization in Python with CVXPY"
   ]
  },
  {
   "cell_type": "markdown",
   "metadata": {},
   "source": [
    "#### Outline"
   ]
  },
  {
   "cell_type": "markdown",
   "metadata": {},
   "source": [
    "- Convex optimization\n",
    "- CVXPY\n",
    "- Parallelism\n",
    "- Porotfolio optimization\n",
    "- Dynamic energy managment\n",
    "- Summary"
   ]
  },
  {
   "cell_type": "markdown",
   "metadata": {},
   "source": [
    "![General OR Formulation](https://github.com/goldenamir/ConvexOptimization/blob/master/Images/01Capture.JPG?raw=true)"
   ]
  },
  {
   "cell_type": "markdown",
   "metadata": {},
   "source": [
    "## Why convex optimization?\n",
    "* beautiful, fairly complete, and useful theory\n",
    "* solution algoritms that work well the theory and practice\n",
    "* Many applications in \n",
    "1. machine leanring and statistics\n",
    "2. control\n",
    "3. signal, image processing\n",
    "4. networking\n",
    "5. engineering design\n",
    "6. finance"
   ]
  },
  {
   "cell_type": "markdown",
   "metadata": {},
   "source": [
    "### How do you solve a convex problem?"
   ]
  },
  {
   "cell_type": "markdown",
   "metadata": {},
   "source": [
    "- use someone elses (standard) solver (LP, QP, SOCP, ...)\n",
    " 1. easy, but your problem must be in a standard form\n",
    " 2. cost of solver development amortized across many users\n",
    "\n",
    "- write your own (custom) solver\n",
    " 1. lots of work, but can take advantage of special structure\n",
    "\n",
    "- use a convex modleing language\n",
    " 1. transforms user-freindly format into solver-friendly standard form\n",
    " 2. extends reach of problems solvable by standard solvers"
   ]
  },
  {
   "cell_type": "markdown",
   "metadata": {},
   "source": [
    "### Convex modeling language"
   ]
  },
  {
   "cell_type": "markdown",
   "metadata": {},
   "source": [
    "* long tradition of modeling language for optimization\n",
    " 1. AMPL, GAMS\n",
    "* Modeling language for convex optimization\n",
    "     1. CVX, YALMIP, CVXGEN, Convex.jl, RCVX\n",
    "* Function of a convex modeling language:\n",
    "    1. check/verify problem convexity\n",
    "    2. convert to standard form"
   ]
  },
  {
   "cell_type": "markdown",
   "metadata": {},
   "source": [
    "### CVXPY"
   ]
  },
  {
   "cell_type": "markdown",
   "metadata": {},
   "source": [
    "A modeling language in Python for convex optimization:\n",
    "* developed by Diamond and Boyd 2014\n",
    "* uses signed DCP to verify convexity\n",
    "* open source all the way to the solvers\n",
    "* supports parameters\n",
    "* mixes easily with general Python code, other libraries\n",
    "* used in many research projects, classes, companies\n",
    "* thousands of users"
   ]
  },
  {
   "cell_type": "markdown",
   "metadata": {},
   "source": [
    "### Sovlers"
   ]
  },
  {
   "cell_type": "markdown",
   "metadata": {},
   "source": [
    "ECOS (domahidi)\n",
    "* cone solver\n",
    "*  interior-point method\n",
    "* compact, library-free C code\n",
    "\n",
    "SCS\n",
    "* cone solver\n",
    "* first-order method\n",
    "* parallelism woth OpenMP\n",
    "* GPU support\n",
    "\n",
    "OSQP \n",
    "* first order method\n",
    "* target QPs and LPs\n",
    "* code generation support\n",
    "\n",
    "Others\n",
    "* CVXOP, GLPK, MOSEK, GUROBI, Cbc, etc"
   ]
  },
  {
   "cell_type": "markdown",
   "metadata": {},
   "source": [
    "#### Example of how we use the python for CVX "
   ]
  },
  {
   "cell_type": "markdown",
   "metadata": {},
   "source": [
    "![image of using CVXPY](https://github.com/goldenamir/ConvexOptimization/blob/master/Images/03Capture.JPG?raw=true)"
   ]
  },
  {
   "cell_type": "code",
   "execution_count": 6,
   "metadata": {},
   "outputs": [],
   "source": [
    "#### Putting above shown example in the codes\n",
    "from cvxpy import * "
   ]
  },
  {
   "cell_type": "code",
   "execution_count": null,
   "metadata": {},
   "outputs": [],
   "source": [
    "x = Variable(n)\n",
    "cost = sum_squares(A*x-b)+gamma*norm(x,1)\n",
    "obj = Minimize(cost)\n",
    "constr = "
   ]
  },
  {
   "cell_type": "markdown",
   "metadata": {},
   "source": [
    "#### Parameters n CVXPY"
   ]
  },
  {
   "cell_type": "markdown",
   "metadata": {},
   "source": [
    "* Symbolic representations of constants\n",
    "* can specify sign (for use in DCP analysis)\n",
    "* change value of constant without re-parsing problem"
   ]
  },
  {
   "cell_type": "markdown",
   "metadata": {},
   "source": [
    "for-loop trade-off curve:"
   ]
  },
  {
   "cell_type": "code",
   "execution_count": 3,
   "metadata": {},
   "outputs": [
    {
     "ename": "NameError",
     "evalue": "name 'gamma' is not defined",
     "output_type": "error",
     "traceback": [
      "\u001b[0;31m---------------------------------------------------------------------------\u001b[0m",
      "\u001b[0;31mNameError\u001b[0m                                 Traceback (most recent call last)",
      "\u001b[0;32m<ipython-input-3-41202beb50b4>\u001b[0m in \u001b[0;36m<module>\u001b[0;34m\u001b[0m\n\u001b[1;32m      2\u001b[0m \u001b[0mx_value\u001b[0m \u001b[0;34m=\u001b[0m \u001b[0;34m[\u001b[0m\u001b[0;34m]\u001b[0m\u001b[0;34m\u001b[0m\u001b[0m\n\u001b[1;32m      3\u001b[0m \u001b[0;32mfor\u001b[0m \u001b[0mval\u001b[0m \u001b[0;32min\u001b[0m \u001b[0mnp\u001b[0m\u001b[0;34m.\u001b[0m\u001b[0mlogspace\u001b[0m\u001b[0;34m(\u001b[0m\u001b[0;34m-\u001b[0m\u001b[0;36m4\u001b[0m\u001b[0;34m,\u001b[0m\u001b[0;36m2\u001b[0m\u001b[0;34m,\u001b[0m\u001b[0;36m100\u001b[0m\u001b[0;34m)\u001b[0m\u001b[0;34m:\u001b[0m\u001b[0;34m\u001b[0m\u001b[0m\n\u001b[0;32m----> 4\u001b[0;31m     \u001b[0mgamma\u001b[0m\u001b[0;34m.\u001b[0m\u001b[0mvalue\u001b[0m \u001b[0;34m=\u001b[0m \u001b[0mval\u001b[0m\u001b[0;34m\u001b[0m\u001b[0m\n\u001b[0m\u001b[1;32m      5\u001b[0m     \u001b[0mprob\u001b[0m\u001b[0;34m.\u001b[0m\u001b[0msolve\u001b[0m\u001b[0;34m(\u001b[0m\u001b[0;34m)\u001b[0m\u001b[0;34m\u001b[0m\u001b[0m\n\u001b[1;32m      6\u001b[0m     \u001b[0mx_values\u001b[0m\u001b[0;34m.\u001b[0m\u001b[0mappend\u001b[0m\u001b[0;34m(\u001b[0m\u001b[0mx\u001b[0m\u001b[0;34m.\u001b[0m\u001b[0mvalue\u001b[0m\u001b[0;34m)\u001b[0m\u001b[0;34m\u001b[0m\u001b[0m\n",
      "\u001b[0;31mNameError\u001b[0m: name 'gamma' is not defined"
     ]
    }
   ],
   "source": [
    "import numpy as np\n",
    "x_value = []\n",
    "for val in np.logspace(-4,2,100):\n",
    "    gamma.value = val\n",
    "    prob.solve()\n",
    "    x_values.append(x.value)"
   ]
  },
  {
   "cell_type": "code",
   "execution_count": null,
   "metadata": {},
   "outputs": [],
   "source": []
  }
 ],
 "metadata": {
  "kernelspec": {
   "display_name": "Python 3",
   "language": "python",
   "name": "python3"
  },
  "language_info": {
   "codemirror_mode": {
    "name": "ipython",
    "version": 3
   },
   "file_extension": ".py",
   "mimetype": "text/x-python",
   "name": "python",
   "nbconvert_exporter": "python",
   "pygments_lexer": "ipython3",
   "version": "3.6.5"
  }
 },
 "nbformat": 4,
 "nbformat_minor": 2
}
