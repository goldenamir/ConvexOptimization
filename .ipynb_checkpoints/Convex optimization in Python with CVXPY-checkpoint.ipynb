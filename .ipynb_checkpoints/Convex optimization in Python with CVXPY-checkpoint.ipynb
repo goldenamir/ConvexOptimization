{
 "cells": [
  {
   "cell_type": "markdown",
   "metadata": {},
   "source": [
    "# Convex Optimization in Python with CVXPY"
   ]
  },
  {
   "cell_type": "markdown",
   "metadata": {},
   "source": [
    "#### Outline"
   ]
  },
  {
   "cell_type": "markdown",
   "metadata": {},
   "source": [
    "- Convex optimization\n",
    "- CVXPY\n",
    "- Parallelism\n",
    "- Porotfolio optimization\n",
    "- Dynamic energy managment\n",
    "- Summary"
   ]
  },
  {
   "cell_type": "markdown",
   "metadata": {},
   "source": [
    "![General OR Formulation](https://github.com/goldenamir/ConvexOptimization/blob/master/Images/01Capture.JPG?raw=true)"
   ]
  },
  {
   "cell_type": "markdown",
   "metadata": {},
   "source": [
    "## Why convex optimization?\n",
    "* beautiful, fairly complete, and useful theory\n",
    "* solution algoritms that work well the theory and practice\n",
    "* Many applications in \n",
    "1. machine leanring and statistics\n",
    "2. control\n",
    "3. signal, image processing\n",
    "4. networking\n",
    "5. engineering design\n",
    "6. finance"
   ]
  },
  {
   "cell_type": "markdown",
   "metadata": {},
   "source": [
    "### How do you solve a convex problem?"
   ]
  },
  {
   "cell_type": "markdown",
   "metadata": {},
   "source": [
    "- use someone elses (standard) solver (LP, QP, SOCP, ...)\n",
    " 1. easy, but your problem must be in a standard form\n",
    " 2. cost of solver development amortized across many users\n",
    "\n",
    "- write your own (custom) solver\n",
    " 1. lots of work, but can take advantage of special structure\n",
    "\n",
    "- use a convex modleing language\n",
    " 1. transforms user-freindly format into solver-friendly standard form\n",
    " 2. extends reach of problems solvable by standard solvers"
   ]
  },
  {
   "cell_type": "markdown",
   "metadata": {},
   "source": [
    "### Convex modeling language"
   ]
  },
  {
   "cell_type": "markdown",
   "metadata": {},
   "source": [
    "* long tradition of modeling language for optimization\n",
    " 1. AMPL, GAMS\n",
    "* Modeling language for convex optimization\n",
    "     1. CVX, YALMIP, CVXGEN, Convex.jl, RCVX\n",
    "* Function of a convex modeling language:\n",
    "    1. check/verify problem convexity\n",
    "    2. convert to standard form"
   ]
  },
  {
   "cell_type": "markdown",
   "metadata": {},
   "source": [
    "### CVXPY"
   ]
  },
  {
   "cell_type": "markdown",
   "metadata": {},
   "source": [
    "A modeling language in Python for convex optimization:\n",
    "* developed by Diamond and Boyd 2014\n",
    "* uses signed DCP to verify convexity\n",
    "* open source all the way to the solvers\n",
    "* supports parameters\n",
    "* mixes easily with general Python code, other libraries\n",
    "* used in many research projects, classes, companies\n",
    "* thousands of users"
   ]
  },
  {
   "cell_type": "markdown",
   "metadata": {},
   "source": [
    "### Sovlers"
   ]
  },
  {
   "cell_type": "markdown",
   "metadata": {},
   "source": [
    "ECOS (domahidi)\n",
    "* cone solver\n",
    "*  interior-point method\n",
    "* compact, library-free C code\n",
    "\n",
    "SCS\n",
    "* cone solver\n",
    "* first-order method\n",
    "* parallelism woth OpenMP\n",
    "* GPU support\n",
    "\n",
    "OSQP \n",
    "* first order method\n",
    "* target QPs and LPs\n",
    "* code generation support\n",
    "\n",
    "Others\n",
    "* CVXOP, GLPK, MOSEK, GUROBI, Cbc, etc"
   ]
  },
  {
   "cell_type": "markdown",
   "metadata": {},
   "source": [
    "#### Example of how we use the python for CVX "
   ]
  },
  {
   "cell_type": "markdown",
   "metadata": {},
   "source": [
    "![image of using CVXPY](https://github.com/goldenamir/ConvexOptimization/blob/master/Images/03Capture.JPG?raw=true)"
   ]
  },
  {
   "cell_type": "code",
   "execution_count": 6,
   "metadata": {},
   "outputs": [],
   "source": [
    "#### Putting above shown example in the codes\n",
    "from cvxpy import * "
   ]
  },
  {
   "cell_type": "code",
   "execution_count": 15,
   "metadata": {},
   "outputs": [
    {
     "ename": "NameError",
     "evalue": "name 'n' is not defined",
     "output_type": "error",
     "traceback": [
      "\u001b[0;31m---------------------------------------------------------------------------\u001b[0m",
      "\u001b[0;31mNameError\u001b[0m                                 Traceback (most recent call last)",
      "\u001b[0;32m<ipython-input-15-5940994c07bc>\u001b[0m in \u001b[0;36m<module>\u001b[0;34m\u001b[0m\n\u001b[1;32m      1\u001b[0m \u001b[0;31m# n should be some number which will be used in the future\u001b[0m\u001b[0;34m\u001b[0m\u001b[0;34m\u001b[0m\u001b[0m\n\u001b[0;32m----> 2\u001b[0;31m \u001b[0mx\u001b[0m \u001b[0;34m=\u001b[0m \u001b[0mVariable\u001b[0m\u001b[0;34m(\u001b[0m\u001b[0mn\u001b[0m\u001b[0;34m)\u001b[0m\u001b[0;34m\u001b[0m\u001b[0m\n\u001b[0m\u001b[1;32m      3\u001b[0m \u001b[0mcost\u001b[0m \u001b[0;34m=\u001b[0m \u001b[0msum_squares\u001b[0m\u001b[0;34m(\u001b[0m\u001b[0mA\u001b[0m\u001b[0;34m*\u001b[0m\u001b[0mx\u001b[0m\u001b[0;34m-\u001b[0m\u001b[0mb\u001b[0m\u001b[0;34m)\u001b[0m\u001b[0;34m+\u001b[0m\u001b[0mgamma\u001b[0m\u001b[0;34m*\u001b[0m\u001b[0mnorm\u001b[0m\u001b[0;34m(\u001b[0m\u001b[0mx\u001b[0m\u001b[0;34m,\u001b[0m\u001b[0;36m1\u001b[0m\u001b[0;34m)\u001b[0m\u001b[0;34m\u001b[0m\u001b[0m\n\u001b[1;32m      4\u001b[0m \u001b[0mobj\u001b[0m \u001b[0;34m=\u001b[0m \u001b[0mMinimize\u001b[0m\u001b[0;34m(\u001b[0m\u001b[0mcost\u001b[0m\u001b[0;34m)\u001b[0m\u001b[0;34m\u001b[0m\u001b[0m\n\u001b[1;32m      5\u001b[0m \u001b[0mconstr\u001b[0m \u001b[0;34m=\u001b[0m \u001b[0;34m[\u001b[0m\u001b[0msum_entroes\u001b[0m\u001b[0;34m(\u001b[0m\u001b[0mx\u001b[0m\u001b[0;34m)\u001b[0m \u001b[0;34m==\u001b[0m \u001b[0;36m0\u001b[0m\u001b[0;34m,\u001b[0m \u001b[0mnorm\u001b[0m\u001b[0;34m(\u001b[0m\u001b[0mx\u001b[0m\u001b[0;34m,\u001b[0m\u001b[0;34m'inf'\u001b[0m\u001b[0;34m)\u001b[0m \u001b[0;34m<=\u001b[0m \u001b[0;36m1\u001b[0m\u001b[0;34m]\u001b[0m\u001b[0;34m\u001b[0m\u001b[0m\n",
      "\u001b[0;31mNameError\u001b[0m: name 'n' is not defined"
     ]
    }
   ],
   "source": [
    "# n should be some number which will be used in the future\n",
    "x = Variable(n)\n",
    "cost = sum_squares(A*x-b)+gamma*norm(x,1)\n",
    "obj = Minimize(cost)\n",
    "constr = [sum_entroes(x) == 0, norm(x,'inf') <= 1]\n",
    "prob = Problem(obj, constr)\n",
    "opt_val = prob.solve()\n",
    "solution = x.value"
   ]
  },
  {
   "cell_type": "markdown",
   "metadata": {},
   "source": [
    "#### Parameters n CVXPY"
   ]
  },
  {
   "cell_type": "markdown",
   "metadata": {},
   "source": [
    "* Symbolic representations of constants\n",
    "* can specify sign (for use in DCP analysis)\n",
    "* change value of constant without re-parsing problem"
   ]
  },
  {
   "cell_type": "markdown",
   "metadata": {},
   "source": [
    "for-loop trade-off curve:"
   ]
  },
  {
   "cell_type": "code",
   "execution_count": 18,
   "metadata": {},
   "outputs": [
    {
     "ename": "NameError",
     "evalue": "name 'gamma' is not defined",
     "output_type": "error",
     "traceback": [
      "\u001b[0;31m---------------------------------------------------------------------------\u001b[0m",
      "\u001b[0;31mNameError\u001b[0m                                 Traceback (most recent call last)",
      "\u001b[0;32m<ipython-input-18-41202beb50b4>\u001b[0m in \u001b[0;36m<module>\u001b[0;34m\u001b[0m\n\u001b[1;32m      2\u001b[0m \u001b[0mx_value\u001b[0m \u001b[0;34m=\u001b[0m \u001b[0;34m[\u001b[0m\u001b[0;34m]\u001b[0m\u001b[0;34m\u001b[0m\u001b[0m\n\u001b[1;32m      3\u001b[0m \u001b[0;32mfor\u001b[0m \u001b[0mval\u001b[0m \u001b[0;32min\u001b[0m \u001b[0mnp\u001b[0m\u001b[0;34m.\u001b[0m\u001b[0mlogspace\u001b[0m\u001b[0;34m(\u001b[0m\u001b[0;34m-\u001b[0m\u001b[0;36m4\u001b[0m\u001b[0;34m,\u001b[0m\u001b[0;36m2\u001b[0m\u001b[0;34m,\u001b[0m\u001b[0;36m100\u001b[0m\u001b[0;34m)\u001b[0m\u001b[0;34m:\u001b[0m\u001b[0;34m\u001b[0m\u001b[0m\n\u001b[0;32m----> 4\u001b[0;31m     \u001b[0mgamma\u001b[0m\u001b[0;34m.\u001b[0m\u001b[0mvalue\u001b[0m \u001b[0;34m=\u001b[0m \u001b[0mval\u001b[0m\u001b[0;34m\u001b[0m\u001b[0m\n\u001b[0m\u001b[1;32m      5\u001b[0m     \u001b[0mprob\u001b[0m\u001b[0;34m.\u001b[0m\u001b[0msolve\u001b[0m\u001b[0;34m(\u001b[0m\u001b[0;34m)\u001b[0m\u001b[0;34m\u001b[0m\u001b[0m\n\u001b[1;32m      6\u001b[0m     \u001b[0mx_values\u001b[0m\u001b[0;34m.\u001b[0m\u001b[0mappend\u001b[0m\u001b[0;34m(\u001b[0m\u001b[0mx\u001b[0m\u001b[0;34m.\u001b[0m\u001b[0mvalue\u001b[0m\u001b[0;34m)\u001b[0m\u001b[0;34m\u001b[0m\u001b[0m\n",
      "\u001b[0;31mNameError\u001b[0m: name 'gamma' is not defined"
     ]
    }
   ],
   "source": [
    "import numpy as np\n",
    "x_value = []\n",
    "for val in np.logspace(-4,2,100):\n",
    "    gamma.value = val\n",
    "    prob.solve()\n",
    "    x_values.append(x.value)"
   ]
  },
  {
   "cell_type": "markdown",
   "metadata": {},
   "source": [
    "### Parallel style of trade-off curve"
   ]
  },
  {
   "cell_type": "code",
   "execution_count": 1,
   "metadata": {},
   "outputs": [
    {
     "name": "stdout",
     "output_type": "stream",
     "text": [
      "Collecting multiprocessing\n",
      "  Using cached https://files.pythonhosted.org/packages/b8/8a/38187040f36cec8f98968502992dca9b00cc5e88553e01884ba29cbe6aac/multiprocessing-2.6.2.1.tar.gz\n",
      "    Complete output from command python setup.py egg_info:\n",
      "    Traceback (most recent call last):\n",
      "      File \"<string>\", line 1, in <module>\n",
      "      File \"/tmp/pip-install-ojqty08m/multiprocessing/setup.py\", line 94\n",
      "        print 'Macros:'\n",
      "                      ^\n",
      "    SyntaxError: Missing parentheses in call to 'print'. Did you mean print('Macros:')?\n",
      "    \n",
      "    ----------------------------------------\n",
      "\u001b[31mCommand \"python setup.py egg_info\" failed with error code 1 in /tmp/pip-install-ojqty08m/multiprocessing/\u001b[0m\n"
     ]
    },
    {
     "ename": "NameError",
     "evalue": "name 'N' is not defined",
     "output_type": "error",
     "traceback": [
      "\u001b[0;31m---------------------------------------------------------------------------\u001b[0m",
      "\u001b[0;31mNameError\u001b[0m                                 Traceback (most recent call last)",
      "\u001b[0;32m<ipython-input-1-c5fdf24c3488>\u001b[0m in \u001b[0;36m<module>\u001b[0;34m\u001b[0m\n\u001b[1;32m     11\u001b[0m     \u001b[0;32mreturn\u001b[0m \u001b[0mx\u001b[0m\u001b[0;34m.\u001b[0m\u001b[0mvalue\u001b[0m\u001b[0;34m\u001b[0m\u001b[0m\n\u001b[1;32m     12\u001b[0m \u001b[0;31m# Parallel computation with N processes.\u001b[0m\u001b[0;34m\u001b[0m\u001b[0;34m\u001b[0m\u001b[0m\n\u001b[0;32m---> 13\u001b[0;31m \u001b[0mpool\u001b[0m \u001b[0;34m=\u001b[0m \u001b[0mPool\u001b[0m\u001b[0;34m(\u001b[0m\u001b[0mprocesses\u001b[0m \u001b[0;34m=\u001b[0m \u001b[0mN\u001b[0m\u001b[0;34m)\u001b[0m\u001b[0;34m\u001b[0m\u001b[0m\n\u001b[0m\u001b[1;32m     14\u001b[0m \u001b[0mx_values\u001b[0m \u001b[0;34m=\u001b[0m \u001b[0mpool\u001b[0m\u001b[0;34m.\u001b[0m\u001b[0mmaps\u001b[0m\u001b[0;34m(\u001b[0m\u001b[0mget_x\u001b[0m\u001b[0;34m,\u001b[0m \u001b[0mnp\u001b[0m\u001b[0;34m.\u001b[0m\u001b[0mlogspace\u001b[0m\u001b[0;34m(\u001b[0m\u001b[0;34m-\u001b[0m\u001b[0;36m4\u001b[0m\u001b[0;34m,\u001b[0m\u001b[0;36m2\u001b[0m\u001b[0;34m,\u001b[0m\u001b[0;36m100\u001b[0m\u001b[0;34m)\u001b[0m\u001b[0;34m)\u001b[0m\u001b[0;34m\u001b[0m\u001b[0m\n",
      "\u001b[0;31mNameError\u001b[0m: name 'N' is not defined"
     ]
    }
   ],
   "source": [
    "# use tools for parallelism in standard library\n",
    "try:\n",
    "    from  mulltiprocessing import Pool\n",
    "except:\n",
    "    !pip install multiprocessing\n",
    "    from multiprocessing import Pool\n",
    "# Function maps gamma value to optimal x.\n",
    "def get_x(gamma_value):\n",
    "    gamma.value = gamma_value\n",
    "    result = prob.solve()\n",
    "    return x.value\n",
    "# Parallel computation with N processes.\n",
    "pool = Pool(processes = N)\n",
    "x_values = pool.maps(get_x, np.logspace(-4,2,100))"
   ]
  },
  {
   "cell_type": "markdown",
   "metadata": {},
   "source": [
    "### Example of Convex optimization utilization"
   ]
  },
  {
   "cell_type": "markdown",
   "metadata": {},
   "source": [
    "Devices interchange power at nets over multiple periods\n",
    "- generators\n",
    "-loads (fixed, deferrable, curtailable, ...)\n",
    "- storage systems (battery, pumped hydro, ...)\n",
    "- thermal/HAVAC\n",
    "- transmission lines\n"
   ]
  },
  {
   "cell_type": "markdown",
   "metadata": {},
   "source": [
    "Each device has objective function and constraints\n",
    "power conserved at nets\n",
    "minimize total system cost to get optimal power schedules\n",
    "net conservation dual variables are locational marginal prices (LMPs)"
   ]
  },
  {
   "cell_type": "markdown",
   "metadata": {},
   "source": [
    "![dynamic energy management example](https://github.com/goldenamir/ConvexOptimization/blob/master/Images/04Capture.JPG?raw=true)"
   ]
  },
  {
   "cell_type": "markdown",
   "metadata": {},
   "source": [
    "#### How use the cvx in the Energy topic"
   ]
  },
  {
   "cell_type": "code",
   "execution_count": null,
   "metadata": {},
   "outputs": [],
   "source": [
    "# CVXPY extension for dynamic energy management (Wytock, Diamond, Boyd, 2016)\n",
    "# all the codes is function orienthed base\n",
    "from dem import *\n",
    "load = FixedLoad(power= P_load) # pre_specified load\n",
    "gen = Generator(power_max =2, alpha=30, beta=1)\n",
    "battery = Storage(discharge_max = 0.1, charge_max = 0,1, energy_max = 1.6)\n",
    "net = Net([load.terminals[0], gen.terminals[0], battery.terminals[0]])\n",
    "network = Group([load, gen, battery],[net])\n",
    "network.optimize()\n",
    "plot(net.price)  # plot LMP at net"
   ]
  },
  {
   "cell_type": "markdown",
   "metadata": {},
   "source": [
    "## Summary"
   ]
  },
  {
   "cell_type": "markdown",
   "metadata": {},
   "source": [
    "* Convex optimization in Python is easy with CVXPY\n",
    " - code follows the math\n",
    " - simple rules for verifying convexity\n",
    "* CVXPY mixes well with high level Python\n",
    " - parallelism\n",
    " - object oriented design\n",
    "* CVXPY is building block for \n",
    " - nonconvex optimization (DCCP, NCVX)\n",
    " - domain-specific application packages (CVXPortfolio)\n",
    "* Inastallation instructions at cvxpy.org\n",
    "* Projects at github.com/cvxgrp\n"
   ]
  },
  {
   "cell_type": "markdown",
   "metadata": {},
   "source": [
    "# Some examples of CVXPY"
   ]
  },
  {
   "cell_type": "code",
   "execution_count": 2,
   "metadata": {},
   "outputs": [],
   "source": [
    "# Importing the CVX libarary\n",
    "try:\n",
    "    import cvxpy as cvx\n",
    "except:\n",
    "    !pip install cvxpy \n",
    "    import cvxpy as cvx"
   ]
  },
  {
   "cell_type": "code",
   "execution_count": 3,
   "metadata": {},
   "outputs": [
    {
     "name": "stdout",
     "output_type": "stream",
     "text": [
      "status optimal\n",
      "optimal value 1.0\n",
      "optimal var 1.0 1.570086213240983e-22\n"
     ]
    }
   ],
   "source": [
    "# Create two variables\n",
    "x = cvx.Variable()\n",
    "y = cvx.Variable()\n",
    "\n",
    "# Create two constraints\n",
    "constraints = [x+y ==1,\n",
    "              x-y >= 1]\n",
    "\n",
    "# Form and solve problem\n",
    "obj = cvx.Minimize((x -y)**2)\n",
    "\n",
    "# Form and solve problem\n",
    "prob = cvx.Problem(obj,constraints)\n",
    "prob.solve()   # Returns the optimal value\n",
    "print(\"status\", prob.status)\n",
    "print(\"optimal value\",prob.value)\n",
    "print(\"optimal var\", x.value, y.value)"
   ]
  },
  {
   "cell_type": "markdown",
   "metadata": {},
   "source": [
    "### Changing the problem"
   ]
  },
  {
   "cell_type": "code",
   "execution_count": 5,
   "metadata": {},
   "outputs": [
    {
     "name": "stdout",
     "output_type": "stream",
     "text": [
      "optimal value 0.9996939016105745\n",
      "optimal value 3.0009677118090208\n"
     ]
    }
   ],
   "source": [
    "# Replace the objective\n",
    "prob2 = cvx.Problem(cvx.Maximize(x+y), prob.constraints)\n",
    "print(\"optimal value\",prob2.solve())\n",
    "\n",
    "# Replace the constraint (x+y == 1)\n",
    "constraints = [x + y <= 3] + prob2.constraints[1:]\n",
    "prob3  = cvx.Problem(prob2.objective, constraints)\n",
    "print(\"optimal value\", prob3.solve())"
   ]
  },
  {
   "cell_type": "code",
   "execution_count": null,
   "metadata": {},
   "outputs": [],
   "source": []
  }
 ],
 "metadata": {
  "kernelspec": {
   "display_name": "Python 3",
   "language": "python",
   "name": "python3"
  },
  "language_info": {
   "codemirror_mode": {
    "name": "ipython",
    "version": 3
   },
   "file_extension": ".py",
   "mimetype": "text/x-python",
   "name": "python",
   "nbconvert_exporter": "python",
   "pygments_lexer": "ipython3",
   "version": "3.6.5"
  }
 },
 "nbformat": 4,
 "nbformat_minor": 2
}
