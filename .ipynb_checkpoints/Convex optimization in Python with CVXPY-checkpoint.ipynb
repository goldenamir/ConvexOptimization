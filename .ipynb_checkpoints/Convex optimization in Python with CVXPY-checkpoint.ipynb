{
 "cells": [
  {
   "cell_type": "markdown",
   "metadata": {},
   "source": [
    "### Convex Optimization in Python with CVXPY"
   ]
  },
  {
   "cell_type": "markdown",
   "metadata": {},
   "source": [
    "#### Outline"
   ]
  },
  {
   "cell_type": "markdown",
   "metadata": {},
   "source": [
    "- Convex optimization\n",
    "- CVXPY\n",
    "- Parallelism\n",
    "- Porotfolio optimization\n",
    "- Dynamic energy managment\n",
    "- Summary"
   ]
  },
  {
   "cell_type": "markdown",
   "metadata": {},
   "source": [
    "![General OR Formulation](https://github.com/goldenamir/ConvexOptimization/blob/master/Images/01Capture.JPG?raw=true)"
   ]
  },
  {
   "cell_type": "markdown",
   "metadata": {},
   "source": [
    "## Why convex optimization?\n",
    "* beautiful, fairly complete, and useful theory\n",
    "* solution algoritms that work well the theory and practice\n",
    "* Many applications in \n",
    "1. machine leanring and statistics\n",
    "2. control\n",
    "3. signal, image processing\n",
    "4. networking\n",
    "5. engineering design\n",
    "6. "
   ]
  }
 ],
 "metadata": {
  "kernelspec": {
   "display_name": "Python 3",
   "language": "python",
   "name": "python3"
  },
  "language_info": {
   "codemirror_mode": {
    "name": "ipython",
    "version": 3
   },
   "file_extension": ".py",
   "mimetype": "text/x-python",
   "name": "python",
   "nbconvert_exporter": "python",
   "pygments_lexer": "ipython3",
   "version": "3.6.5"
  }
 },
 "nbformat": 4,
 "nbformat_minor": 2
}
